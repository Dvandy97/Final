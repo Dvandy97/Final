{
 "cells": [
  {
   "cell_type": "markdown",
   "metadata": {},
   "source": [
    "<center>\n",
    "    <img src=\"https://s3-api.us-geo.objectstorage.softlayer.net/cf-courses-data/CognitiveClass/Logos/organization_logo/organization_logo.png\" width=\"300\" alt=\"cognitiveclass.ai logo\"  />\n",
    "</center>\n"
   ]
  },
  {
   "cell_type": "markdown",
   "metadata": {},
   "source": [
    "#### Add your code below following the instructions given in the course\n"
   ]
  },
  {
   "cell_type": "code",
   "execution_count": 20,
   "metadata": {},
   "outputs": [
    {
     "name": "stdout",
     "output_type": "stream",
     "text": [
      "the sum of 1 and 2 is 3\n"
     ]
    }
   ],
   "source": [
    "#!/usr/bin/env python\n",
    "# coding: utf-8\n",
    "\n",
    "# <h1>My Jupyter Notebook on IBM Watson Studio\n",
    "\n",
    "# <strong>Dennis</strong>\n",
    "\n",
    "# Human 100%\n",
    "\n",
    "# <i> I am interesting in data science because I want to change careers into cybersecurity</i>\n",
    "\n",
    "# <h3> The following code will add two numbers</h3>\n",
    "\n",
    "# In[5]:\n",
    "\n",
    "num1 = 1\n",
    "num2 = 2\n",
    "\n",
    "# Add two numbers\n",
    "sum = num1 + num2\n",
    "\n",
    "# Display the sum\n",
    "print('the sum of {0} and {1} is {2}'.format(num1, num2, sum))\n",
    "\n",
    "# <ul>\n",
    "#    <li>Coffee</li>\n",
    "#    <li>Milk</li>\n",
    "#    <li>Tea</li>\n",
    "# </ul>\n",
    "\n",
    "# <ol>\n",
    "#    <li>Coffee</li>\n",
    "#    <li>Milk</li>\n",
    "#    <li>Tea</li>\n",
    "# </ol>\n",
    "\n",
    "# <a href=\"url\">link text</a>\n",
    "\n",
    "# IN[ ]:"
   ]
  },
  {
   "cell_type": "code",
   "execution_count": null,
   "metadata": {},
   "outputs": [],
   "source": []
  }
 ],
 "metadata": {
  "kernelspec": {
   "display_name": "Python",
   "language": "python",
   "name": "conda-env-python-py"
  },
  "language_info": {
   "codemirror_mode": {
    "name": "ipython",
    "version": 3
   },
   "file_extension": ".py",
   "mimetype": "text/x-python",
   "name": "python",
   "nbconvert_exporter": "python",
   "pygments_lexer": "ipython3",
   "version": "3.7.12"
  }
 },
 "nbformat": 4,
 "nbformat_minor": 4
}
